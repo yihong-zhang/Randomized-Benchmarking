{
 "cells": [
  {
   "cell_type": "markdown",
   "metadata": {},
   "source": [
    "# Randomized Benchmarking with Gate-dependent Noise\n",
    "#### Yihong Zhang\n",
    "\n"
   ]
  },
  {
   "cell_type": "markdown",
   "metadata": {},
   "source": [
    "## Introduction\n",
    "\n",
    "This jupyter notebook provides a comparision between Wallman (arXiv: 1703.09835) and Merkel's (arXiv: 1804.05951) paper."
   ]
  },
  {
   "cell_type": "markdown",
   "metadata": {},
   "source": [
    "## Pre-setting"
   ]
  },
  {
   "cell_type": "markdown",
   "metadata": {},
   "source": [
    "#### Superoperator representation"
   ]
  },
  {
   "cell_type": "code",
   "execution_count": 256,
   "metadata": {
    "collapsed": false
   },
   "outputs": [
    {
     "name": "stdout",
     "output_type": "stream",
     "text": [
      "Populating the interactive namespace from numpy and matplotlib\n"
     ]
    }
   ],
   "source": [
    "# -*- coding: utf-8 -*-\n",
    "\"\"\"\n",
    "author: YihongZhang\n",
    "\"\"\"\n",
    "%pylab inline\n",
    "%matplotlib inline\n",
    "import numpy as np\n",
    "import qutip as qt\n",
    "import scipy as sp\n",
    "import random as Random\n",
    "import heapq as hp"
   ]
  },
  {
   "cell_type": "code",
   "execution_count": 128,
   "metadata": {
    "collapsed": true
   },
   "outputs": [],
   "source": [
    "def channel_to_superrep(element, rep_space):\n",
    "    temp = np.zeros((len(rep_space), len(rep_space)))\n",
    "    for i in range(len(rep_space)):\n",
    "        for j in range(len(rep_space)):\n",
    "            temp[i, j] = (rep_space[i].dag() * element * rep_space[j] * element.dag()).tr()\n",
    "    return temp"
   ]
  },
  {
   "cell_type": "markdown",
   "metadata": {},
   "source": [
    "#### 1Q-clifford generation"
   ]
  },
  {
   "cell_type": "code",
   "execution_count": 129,
   "metadata": {
    "collapsed": false
   },
   "outputs": [
    {
     "name": "stdout",
     "output_type": "stream",
     "text": [
      "The number of 1Q-clifford elements is: 24\n"
     ]
    }
   ],
   "source": [
    "cliff1Q_generator = qt.qubit_clifford_group(1,0)\n",
    "clifford1Q = []\n",
    "normalized_pauli = [qt.identity(2), qt.sigmax(), qt.sigmay(), qt.sigmaz()] / np.sqrt(2)\n",
    "for i in range(24):\n",
    "    x = channel_to_superrep(cliff1Q_generator.__next__(), normalized_pauli)\n",
    "    clifford1Q.append(x)\n",
    "print('The number of 1Q-clifford elements is:', len(clifford1Q))"
   ]
  },
  {
   "cell_type": "markdown",
   "metadata": {},
   "source": [
    "## Fourier transform of Clifford group"
   ]
  },
  {
   "cell_type": "markdown",
   "metadata": {},
   "source": [
    "#### 1Q-clifford fourier transform -- $\\tilde{\\phi}(\\sigma)$"
   ]
  },
  {
   "cell_type": "code",
   "execution_count": 275,
   "metadata": {
    "collapsed": false
   },
   "outputs": [
    {
     "name": "stdout",
     "output_type": "stream",
     "text": [
      "The fourier transform in superoperator rep is: \n",
      " [[1.  0.  0.  0.  0.  0.  0.  0.  0.  0.  0.  0.  0.  0.  0.  0. ]\n",
      " [0.  0.  0.  0.  0.  0.  0.  0.  0.  0.  0.  0.  0.  0.  0.  0. ]\n",
      " [0.  0.  0.  0.  0.  0.  0.  0.  0.  0.  0.  0.  0.  0.  0.  0. ]\n",
      " [0.  0.  0.  0.  0.  0.  0.  0.  0.  0.  0.  0.  0.  0.  0.  0. ]\n",
      " [0.  0.  0.  0.  0.  0.  0.  0.  0.  0.  0.  0.  0.  0.  0.  0. ]\n",
      " [0.  0.  0.  0.  0.  0.3 0.  0.  0.  0.  0.3 0.  0.  0.  0.  0.3]\n",
      " [0.  0.  0.  0.  0.  0.  0.  0.  0.  0.  0.  0.  0.  0.  0.  0. ]\n",
      " [0.  0.  0.  0.  0.  0.  0.  0.  0.  0.  0.  0.  0.  0.  0.  0. ]\n",
      " [0.  0.  0.  0.  0.  0.  0.  0.  0.  0.  0.  0.  0.  0.  0.  0. ]\n",
      " [0.  0.  0.  0.  0.  0.  0.  0.  0.  0.  0.  0.  0.  0.  0.  0. ]\n",
      " [0.  0.  0.  0.  0.  0.3 0.  0.  0.  0.  0.3 0.  0.  0.  0.  0.3]\n",
      " [0.  0.  0.  0.  0.  0.  0.  0.  0.  0.  0.  0.  0.  0.  0.  0. ]\n",
      " [0.  0.  0.  0.  0.  0.  0.  0.  0.  0.  0.  0.  0.  0.  0.  0. ]\n",
      " [0.  0.  0.  0.  0.  0.  0.  0.  0.  0.  0.  0.  0.  0.  0.  0. ]\n",
      " [0.  0.  0.  0.  0.  0.  0.  0.  0.  0.  0.  0.  0.  0.  0.  0. ]\n",
      " [0.  0.  0.  0.  0.  0.3 0.  0.  0.  0.  0.3 0.  0.  0.  0.  0.3]]\n"
     ]
    }
   ],
   "source": [
    "def cliff1Q_FT(Cliff, rep):\n",
    "    FTrep_num = 4 * len(rep[0])\n",
    "    temp = np.zeros((FTrep_num, FTrep_num))\n",
    "    for i in range(24):\n",
    "        temp = temp + np.kron(Cliff[i], rep[i].conjugate())\n",
    "    return temp / 24\n",
    "np.set_printoptions(precision=1)\n",
    "print('The fourier transform in superoperator rep is: \\n', cliff1Q_FT(clifford1Q, clifford1Q))"
   ]
  },
  {
   "cell_type": "markdown",
   "metadata": {},
   "source": [
    "#### 1Q-clifford fourier transform -- $\\tilde{\\phi}(\\sigma_I)$"
   ]
  },
  {
   "cell_type": "code",
   "execution_count": 276,
   "metadata": {
    "collapsed": false
   },
   "outputs": [
    {
     "name": "stdout",
     "output_type": "stream",
     "text": [
      "The fourier transform in irrep 1 is: \n",
      " [[1. 0. 0. 0.]\n",
      " [0. 0. 0. 0.]\n",
      " [0. 0. 0. 0.]\n",
      " [0. 0. 0. 0.]]\n"
     ]
    }
   ],
   "source": [
    "cliff1Q_generator = qt.qubit_clifford_group(1,0)\n",
    "cliff1Q_irrepI = []\n",
    "normalized_identity = [qt.identity(2)] / np.sqrt(2)\n",
    "for i in range(24):\n",
    "    x = channel_to_superrep(cliff1Q_generator.__next__(), normalized_identity)\n",
    "    cliff1Q_irrepI.append(x)    \n",
    "print('The fourier transform in irrep 1 is: \\n', cliff1Q_FT(clifford1Q, cliff1Q_irrepI))"
   ]
  },
  {
   "cell_type": "markdown",
   "metadata": {},
   "source": [
    "#### 1Q-clifford fourier transform -- $\\tilde{\\phi}(\\sigma_P)$"
   ]
  },
  {
   "cell_type": "code",
   "execution_count": 277,
   "metadata": {
    "collapsed": false
   },
   "outputs": [
    {
     "name": "stdout",
     "output_type": "stream",
     "text": [
      "The fourier transform in irrep 2 is: \n",
      " [[0.  0.  0.  0.  0.  0.  0.  0.  0.  0.  0.  0. ]\n",
      " [0.  0.  0.  0.  0.  0.  0.  0.  0.  0.  0.  0. ]\n",
      " [0.  0.  0.  0.  0.  0.  0.  0.  0.  0.  0.  0. ]\n",
      " [0.  0.  0.  0.3 0.  0.  0.  0.3 0.  0.  0.  0.3]\n",
      " [0.  0.  0.  0.  0.  0.  0.  0.  0.  0.  0.  0. ]\n",
      " [0.  0.  0.  0.  0.  0.  0.  0.  0.  0.  0.  0. ]\n",
      " [0.  0.  0.  0.  0.  0.  0.  0.  0.  0.  0.  0. ]\n",
      " [0.  0.  0.  0.3 0.  0.  0.  0.3 0.  0.  0.  0.3]\n",
      " [0.  0.  0.  0.  0.  0.  0.  0.  0.  0.  0.  0. ]\n",
      " [0.  0.  0.  0.  0.  0.  0.  0.  0.  0.  0.  0. ]\n",
      " [0.  0.  0.  0.  0.  0.  0.  0.  0.  0.  0.  0. ]\n",
      " [0.  0.  0.  0.3 0.  0.  0.  0.3 0.  0.  0.  0.3]]\n"
     ]
    }
   ],
   "source": [
    "cliff1Q_generator = qt.qubit_clifford_group(1,0)\n",
    "cliff1Q_irrepP = []\n",
    "normalized_noidentity = [qt.sigmax(), qt.sigmay(), qt.sigmaz()] / np.sqrt(2)\n",
    "for i in range(24):\n",
    "    x = channel_to_superrep(cliff1Q_generator.__next__(), normalized_noidentity)\n",
    "    cliff1Q_irrepP.append(x)\n",
    "print('The fourier transform in irrep 2 is: \\n', cliff1Q_FT(clifford1Q, cliff1Q_irrepP))"
   ]
  },
  {
   "cell_type": "markdown",
   "metadata": {},
   "source": [
    "Clearly we can see that  $\\tilde{\\phi}(\\sigma) = \\tilde{\\phi}(\\sigma_I) \\oplus \\tilde{\\phi}(\\sigma_P)$, here $\\sigma = \\sigma_I \\oplus \\sigma_P$."
   ]
  },
  {
   "cell_type": "markdown",
   "metadata": {},
   "source": [
    "## Comparision between Merkel and Wallman's paper"
   ]
  },
  {
   "cell_type": "markdown",
   "metadata": {},
   "source": [
    "### Mathmatical analysis\n",
    "$\\newcommand{\\ket}[1]{\\left|{#1}\\right\\rangle}$\n",
    "$\\newcommand{\\bra}[1]{\\left\\langle{#1}\\right|}$\n",
    "We will first make brief theoretical analysis of Merkel and Wallman's paper.\n",
    "***\n",
    "##### Merkel\n",
    "In Merkel's paper, the average fidelity is $1 - \\delta$, i.e.,\n",
    "\\begin{equation}\n",
    "\\begin{split}\n",
    "1 - \\delta &= \\mathbb{E}_{g\\in\\mathcal{G}} F_e[\\phi(g), \\phi_{ideal}(g)] = \\sum_{\\sigma}\\frac{d_\\sigma}{d_\\phi} Tr[\\tilde{\\phi}(\\sigma) \\tilde{\\phi}_{ideal}^+(\\sigma)] \\\\\n",
    "&= \\frac{1}{4^n}\\bra{1 \\oplus \\mathbf{0}}\\tilde{\\phi}(\\sigma_I)\\ket{1 \\oplus \\mathbf{0}} + \\frac{4^n - 1}{4^n} \\bra{\\mathbf{0} \\oplus \\psi}\\tilde{\\phi}(\\sigma_I)\\ket{\\mathbf{0} \\oplus \\psi}\n",
    "\\end{split}\n",
    "\\end{equation}\n",
    "here $\\psi$ is the maximally entangled states. Merkel defines\n",
    "\\begin{equation}\n",
    "\\begin{split}\n",
    "t &\\equiv \\bra{1 \\oplus \\mathbf{0}}\\tilde{\\phi}(\\sigma_I)\\ket{1 \\oplus \\mathbf{0}} \\\\\n",
    "p &\\equiv \\bra{\\mathbf{0} \\oplus \\psi}\\tilde{\\phi}(\\sigma_I)\\ket{\\mathbf{0} \\oplus \\psi} \n",
    "\\end{split}\n",
    "\\end{equation}\n",
    "We can see that $t$ and $p$ are the (largest) eigenvalues of $\\tilde{\\phi}(\\sigma)$. <br>\n",
    "The average survival probability is\n",
    "\\begin{equation}\n",
    "S_m = Ap^m + Bt^m + C + \\mathcal{O}(\\delta^n)\n",
    "\\end{equation}\n",
    "***\n",
    "##### Wallman\n",
    "In Wallman's paper, for any unitary 2-design $\\mathcal{G}$ and channel $\\mathcal{C}$, the twired channel is\n",
    "\\begin{equation}\n",
    "\\mathbb{E}_{g\\in\\mathcal{G}} [\\phi_{ideal}(g^+) \\mathcal{C} \\phi_{ideal}(g)] = \\frac{t}{d}I_d + p(\\rho - \\frac{1}{d}I_d) \\equiv \\mathcal{D}_{p,t}\n",
    "\\end{equation}\n",
    "here $\\phi(g)$ is the super-operator representation; $t$ and $p$ are defined by the eigenvalue equations,\n",
    "\\begin{equation}\n",
    "\\begin{split}\n",
    "&t:  \n",
    "\\left\\{\n",
    "\\begin{aligned}\n",
    "& \\mathbb{E}_{g\\in\\mathcal{G}}\\phi(g)\\ket{L}\\rangle = t\\ket{L}\\rangle \\\\\n",
    "& \\langle\\bra{R}\\mathbb{E}_{g\\in\\mathcal{G}}\\phi(g) = t\\langle\\bra{R} \n",
    "\\end{aligned}\n",
    "\\right. \\\\\n",
    "&p:\n",
    "\\left\\{\n",
    "\\begin{aligned}\n",
    "& \\mathbb{E}_{g\\in\\mathcal{G}} [\\phi_{ideal}(g) \\otimes \\phi(g)] \\mathrm{vec}(\\mathcal{L'}) = p\\mathrm{vec}(\\mathcal{L'}) \\\\\n",
    "& \\mathbb{E}_{g\\in\\mathcal{G}} [\\phi(g) \\otimes \\phi_{ideal}(g)]^T \\mathrm{vec}(\\mathcal{R'}) = p\\mathrm{vec}(\\mathcal{R'})\n",
    "\\end{aligned}\n",
    "\\right. \\\\\n",
    "\\end{split}\n",
    "\\end{equation}\n",
    "here $t$ and $p$ are the largest eigenvalues. <br>\n",
    "The average survival probability is\n",
    "\\begin{equation}\n",
    "S_m = Ap^m + Bt^m + \\epsilon_m\n",
    "\\end{equation}\n",
    "here $|\\epsilon| < \\delta_1\\delta_2^m$, and $\\delta_1$ and $\\delta_2$ quantify the amount of gate dependence.\n",
    "***\n",
    "##### Comparision\n",
    "Recall the definition of fourier transform of $\\phi$ on $\\sigma$\n",
    "\\begin{equation}\n",
    "\\tilde{\\phi}(\\sigma) = \\mathbb{E}_{g\\in\\mathcal{G}} \\phi(g) \\otimes \\sigma^*(g)\n",
    "\\end{equation}\n",
    "As for super-operator representation, $\\sigma^*(g) = \\sigma(g)$, we can see that in Wallman's paper, \n",
    "\\begin{equation}\n",
    "\\begin{split}\n",
    "&t_{Wallman}:\n",
    "\\left\\{\n",
    "\\begin{aligned}\n",
    "& \\tilde{\\phi}(\\sigma_I)\\ket{L}\\rangle = t_{Wallman}\\ket{L}\\rangle \\\\\n",
    "& \\langle\\bra{R}\\tilde{\\phi}(\\sigma_I) = t_{Wallman}\\langle\\bra{R} \n",
    "\\end{aligned}\n",
    "\\right. \\\\\n",
    "&p_{Wallman}: \\mathrm{vec}(\\mathcal{R'})^T \\tilde{\\phi}(\\sigma) = p_{Wallman}\\mathrm{vec}(\\mathcal{R'})^T\n",
    "\\end{split}\n",
    "\\end{equation}\n",
    "which means $t_{Wallman}$ are the eigenvalue of $\\tilde{\\phi}(\\sigma_I)$ and $p_{Wallman}$ are the eigenvalur of $\\tilde{\\phi}(\\sigma)$. Since $\\tilde{\\phi}(\\sigma) = \\tilde{\\phi}(\\sigma_I) \\oplus \\tilde{\\phi}(\\sigma_P)$, $t_{Wallman}$ and $p_{Wallman}$ are the eigenvalues of $\\tilde{\\phi}(\\sigma)$. <br>\n",
    "In conclusion,\n",
    "\\begin{equation}\n",
    "\\begin{split}\n",
    "t_{Merkel} = t_{Wallman} \\\\\n",
    "p_{Merkel} = p_{Wallman}\n",
    "\\end{split}\n",
    "\\end{equation}"
   ]
  },
  {
   "cell_type": "markdown",
   "metadata": {},
   "source": [
    "### Numerical simulation"
   ]
  },
  {
   "cell_type": "markdown",
   "metadata": {},
   "source": [
    "Here we use the generalized depolarizing channel, i.e.,\n",
    "\\begin{equation}\n",
    "\\begin{split}\n",
    "\\varepsilon_{dep}(\\rho) &= \\frac{t}{d}I_d + p(\\rho - \\frac{1}{d}I_d) \\\\\n",
    "&= (p + \\frac{t - p}{2d})\\rho + \\frac{t - p}{2d}(X\\rho X + Y\\rho Y + Z\\rho Z)\n",
    "\\end{split}\n",
    "\\end{equation}"
   ]
  },
  {
   "cell_type": "code",
   "execution_count": 278,
   "metadata": {
    "collapsed": false
   },
   "outputs": [
    {
     "name": "stdout",
     "output_type": "stream",
     "text": [
      "The phase error Rz( 0.09 ):\n",
      " [[ 1.     0.     0.     0.   ]\n",
      " [ 0.     0.996 -0.09   0.   ]\n",
      " [ 0.     0.09   0.996  0.   ]\n",
      " [ 0.     0.     0.     1.   ]]\n",
      "The depolarizing channel D( 1 , 0.99 ):\n",
      " [[1.   0.   0.   0.  ]\n",
      " [0.   0.99 0.   0.  ]\n",
      " [0.   0.   0.99 0.  ]\n",
      " [0.   0.   0.   0.99]]\n"
     ]
    }
   ],
   "source": [
    "rz_angle = 0.09 #phase error parameter (radian measure)\n",
    "t = 1 #depolarizing channel parameters\n",
    "p = 0.99\n",
    "#phase error (z rotation)\n",
    "phase_err = channel_to_superrep(qt.rz(rz_angle), normalized_pauli)\n",
    "\n",
    "#depolarizing channel in super-operator rep\n",
    "def dep(t, p, num_qubit, rep_space):\n",
    "    temp = np.zeros((len(rep_space), len(rep_space)))\n",
    "    d = 2**num_qubit\n",
    "    for i in range(len(rep_space)):\n",
    "        for j in range(len(rep_space)):\n",
    "            temp_chan = (p + (t - p)/2/d) * rep_space[j] + (t - p)/2/d * (qt.sigmax() * rep_space[j] * qt.sigmax() + qt.sigmay() * \\\n",
    "                                                                        rep_space[j] * qt.sigmay() + qt.sigmaz() * rep_space[j] * qt.sigmaz())\n",
    "            temp[i, j] = (rep_space[i].dag() * temp_chan).tr()\n",
    "    return temp\n",
    "dep_chan = dep(t, p, 1, normalized_pauli)\n",
    "\n",
    "np.set_printoptions(precision=3)\n",
    "print('The phase error Rz(',rz_angle ,'):\\n',phase_err)\n",
    "print('The depolarizing channel D(',t,',',p,'):\\n', dep_chan)"
   ]
  },
  {
   "cell_type": "markdown",
   "metadata": {},
   "source": [
    "We use Wallman's error model to construct noisy clifford process. All Cliffords have a uniform depolarizing error $D(t, p)$, but half of them additionally have a small rotation about Z (we choose 12 elements randomly from the whole 24 elements\\). "
   ]
  },
  {
   "cell_type": "code",
   "execution_count": 279,
   "metadata": {
    "collapsed": false
   },
   "outputs": [
    {
     "name": "stdout",
     "output_type": "stream",
     "text": [
      "The entanglement fidelity is: 0.9914983014204682\n"
     ]
    }
   ],
   "source": [
    "Cliff1QIdeal = clifford1Q\n",
    "np.set_printoptions(precision=3)\n",
    "Cliff1QNoisy = []\n",
    "for i in range(len(Cliff1QIdeal)):\n",
    "    Cliff1QNoisy.append(np.dot(dep_chan, Cliff1QIdeal[i]))\n",
    "#np.set_printoptions(precision=5)\n",
    "#print(Cliff1QNoisy)\n",
    "NoisySequence = Random.sample(range(24), 12)\n",
    "for i in range(len(NoisySequence)):\n",
    "    Cliff1QNoisy[NoisySequence[i]] = np.dot(phase_err, Cliff1QNoisy[NoisySequence[i]])\n",
    "\n",
    "def EntangleFedelity(channel1, channel2):\n",
    "    temp = 0\n",
    "    for i in range(len(channel1)):\n",
    "        temp = temp + (np.dot(channel1[i], (channel2[i].T).conjugate())).trace() / 4\n",
    "    return temp / 24\n",
    "print('The entanglement fidelity is:', EntangleFedelity(Cliff1QNoisy, Cliff1QIdeal))"
   ]
  },
  {
   "cell_type": "markdown",
   "metadata": {},
   "source": [
    "##### Fidelity calculated by Merkel's analysis"
   ]
  },
  {
   "cell_type": "code",
   "execution_count": 291,
   "metadata": {
    "collapsed": false
   },
   "outputs": [
    {
     "name": "stdout",
     "output_type": "stream",
     "text": [
      "The largest eigenvalue in irrepI is: [0.9999999999999997]\n",
      "The largest eigenvalue in irrepP is: [(0.9885539234147862+0j)]\n",
      "The entanglement fidelity calculated by fourier analysis is: (0.9914154425610896+0j)\n"
     ]
    }
   ],
   "source": [
    "FourierNoisy_irrepI = cliff1Q_FT(Cliff1QNoisy, cliff1Q_irrepI)\n",
    "FourierNoisy_irrepP = cliff1Q_FT(Cliff1QNoisy, cliff1Q_irrepP)\n",
    "eigenvalNoisy_irrepI, eigenvecNoisy_irrepI = np.linalg.eig(FourierNoisy_irrepI)\n",
    "eigenvalNoisy_irrepP, eigenvecNoisy_irrepP = np.linalg.eig(FourierNoisy_irrepP)\n",
    "LargestEigenval_irrepI = hp.nlargest(1, eigenvalNoisy_irrepI)\n",
    "LargestEigenval_irrepP = hp.nlargest(1, eigenvalNoisy_irrepP)\n",
    "FourierFidelity = LargestEigenval_irrepI[0] / 4 + LargestEigenval_irrepP[0] * 3 / 4\n",
    "print('The largest eigenvalue in irrepI is:', LargestEigenval_irrepI)\n",
    "print('The largest eigenvalue in irrepP is:', LargestEigenval_irrepP)\n",
    "print('The entanglement fidelity calculated by fourier analysis is:', FourierFidelity)"
   ]
  },
  {
   "cell_type": "markdown",
   "metadata": {},
   "source": [
    "#### Fidelity calculated by Wallman's analysis"
   ]
  },
  {
   "cell_type": "code",
   "execution_count": 294,
   "metadata": {
    "collapsed": false
   },
   "outputs": [
    {
     "name": "stdout",
     "output_type": "stream",
     "text": [
      "The eigenvalues of noisy fourier tranform are: \n",
      " [ 0.000e+00+0.000e+00j  4.626e-18+4.626e-18j  4.626e-18-4.626e-18j\n",
      "  9.886e-01+0.000e+00j  6.977e-03+0.000e+00j -1.403e-03+5.828e-03j\n",
      " -1.403e-03-5.828e-03j -3.793e-03+0.000e+00j  6.671e-05+0.000e+00j\n",
      " -3.374e-03+0.000e+00j -2.749e-10+0.000e+00j  2.749e-10+0.000e+00j\n",
      "  2.528e-18+0.000e+00j -2.257e-17+0.000e+00j -3.414e-16+0.000e+00j\n",
      "  1.000e+00+0.000e+00j]\n",
      "The two largest eigenvalues of noisy fourier tranform are: \n",
      " [(0.9999999999999997+0j), (0.9885539234147851+0j)]\n",
      "t in Wallmans paper is: 0.9999999999999997\n",
      "p in Wallmans paper is: (0.9999999999999997+0j)\n"
     ]
    }
   ],
   "source": [
    "FourierNoisy = cliff1Q_FT(Cliff1QNoisy, clifford1Q)\n",
    "eigenvalNoisy, eigenvecNoisy = np.linalg.eig(FourierNoisy)\n",
    "LargestEigenval = hp.nlargest(2, eigenvalNoisy)\n",
    "#print('The fourier transform of noisy Cifford is: \\n', FourierNoisy)\n",
    "print('The eigenvalues of noisy fourier tranform are: \\n',eigenvalNoisy)\n",
    "print('The two largest eigenvalues of noisy fourier tranform are: \\n', LargestEigenval)\n",
    "print('t in Wallmans paper is:', LargestEigenval_irrepI[0])\n",
    "print('p in Wallmans paper is:', LargestEigenval[0])"
   ]
  },
  {
   "cell_type": "code",
   "execution_count": null,
   "metadata": {
    "collapsed": true
   },
   "outputs": [],
   "source": []
  }
 ],
 "metadata": {
  "kernelspec": {
   "display_name": "Python 3",
   "language": "python",
   "name": "python3"
  },
  "language_info": {
   "codemirror_mode": {
    "name": "ipython",
    "version": 3
   },
   "file_extension": ".py",
   "mimetype": "text/x-python",
   "name": "python",
   "nbconvert_exporter": "python",
   "pygments_lexer": "ipython3",
   "version": "3.6.0"
  }
 },
 "nbformat": 4,
 "nbformat_minor": 0
}
