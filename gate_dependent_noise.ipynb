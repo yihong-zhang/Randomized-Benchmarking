{
 "cells": [
  {
   "cell_type": "markdown",
   "metadata": {},
   "source": [
    "# Randomized Benchmarking with Gate-dependent Noise\n",
    "#### Yihong Zhang\n",
    "\n"
   ]
  },
  {
   "cell_type": "markdown",
   "metadata": {},
   "source": [
    "## Introduction\n",
    "\n",
    "This jupyter notebook provides a comparision between Wallman (arXiv: 1703.09835) and Merkel's (arXiv: 1804.05951) paper."
   ]
  },
  {
   "cell_type": "markdown",
   "metadata": {},
   "source": [
    "## Pre-setting"
   ]
  },
  {
   "cell_type": "markdown",
   "metadata": {},
   "source": [
    "#### Superoperator representation"
   ]
  },
  {
   "cell_type": "code",
   "execution_count": 1,
   "metadata": {
    "collapsed": false
   },
   "outputs": [
    {
     "name": "stdout",
     "output_type": "stream",
     "text": [
      "Populating the interactive namespace from numpy and matplotlib\n"
     ]
    }
   ],
   "source": [
    "# -*- coding: utf-8 -*-\n",
    "\"\"\"\n",
    "author: YihongZhang\n",
    "\"\"\"\n",
    "%pylab inline\n",
    "%matplotlib inline\n",
    "import numpy as np\n",
    "import qutip as qt\n",
    "import scipy as sp\n",
    "import random as Random\n",
    "import heapq as hp\n",
    "\n",
    "def chop(expr, delta=10**-10):\n",
    "    return np.ma.masked_inside(expr, -delta, delta).filled(0)"
   ]
  },
  {
   "cell_type": "code",
   "execution_count": 2,
   "metadata": {
    "collapsed": true
   },
   "outputs": [],
   "source": [
    "def channel_to_superrep(element, rep_space):\n",
    "    temp = np.zeros((len(rep_space), len(rep_space)))\n",
    "    for i in range(len(rep_space)):\n",
    "        for j in range(len(rep_space)):\n",
    "            temp[i, j] = (rep_space[i].dag() * element * rep_space[j] * element.dag()).tr()\n",
    "    return temp"
   ]
  },
  {
   "cell_type": "markdown",
   "metadata": {},
   "source": [
    "#### 1Q-clifford generation"
   ]
  },
  {
   "cell_type": "code",
   "execution_count": 3,
   "metadata": {
    "collapsed": false
   },
   "outputs": [
    {
     "name": "stdout",
     "output_type": "stream",
     "text": [
      "The number of 1Q-clifford elements is: 24\n"
     ]
    }
   ],
   "source": [
    "cliff1Q_generator = qt.qubit_clifford_group(1,0)\n",
    "clifford1Q = []\n",
    "normalized_pauli = [qt.identity(2), qt.sigmax(), qt.sigmay(), qt.sigmaz()] / np.sqrt(2)\n",
    "for i in range(24):\n",
    "    x = channel_to_superrep(cliff1Q_generator.__next__(), normalized_pauli)\n",
    "    clifford1Q.append(x)\n",
    "print('The number of 1Q-clifford elements is:', len(clifford1Q))"
   ]
  },
  {
   "cell_type": "markdown",
   "metadata": {},
   "source": [
    "## Fourier transform of Clifford group"
   ]
  },
  {
   "cell_type": "markdown",
   "metadata": {},
   "source": [
    "#### 1Q-clifford fourier transform -- $\\tilde{\\phi}(\\sigma)$"
   ]
  },
  {
   "cell_type": "code",
   "execution_count": 4,
   "metadata": {
    "collapsed": false
   },
   "outputs": [
    {
     "name": "stdout",
     "output_type": "stream",
     "text": [
      "The fourier transform in superoperator rep is: \n",
      " [[1.  0.  0.  0.  0.  0.  0.  0.  0.  0.  0.  0.  0.  0.  0.  0. ]\n",
      " [0.  0.  0.  0.  0.  0.  0.  0.  0.  0.  0.  0.  0.  0.  0.  0. ]\n",
      " [0.  0.  0.  0.  0.  0.  0.  0.  0.  0.  0.  0.  0.  0.  0.  0. ]\n",
      " [0.  0.  0.  0.  0.  0.  0.  0.  0.  0.  0.  0.  0.  0.  0.  0. ]\n",
      " [0.  0.  0.  0.  0.  0.  0.  0.  0.  0.  0.  0.  0.  0.  0.  0. ]\n",
      " [0.  0.  0.  0.  0.  0.3 0.  0.  0.  0.  0.3 0.  0.  0.  0.  0.3]\n",
      " [0.  0.  0.  0.  0.  0.  0.  0.  0.  0.  0.  0.  0.  0.  0.  0. ]\n",
      " [0.  0.  0.  0.  0.  0.  0.  0.  0.  0.  0.  0.  0.  0.  0.  0. ]\n",
      " [0.  0.  0.  0.  0.  0.  0.  0.  0.  0.  0.  0.  0.  0.  0.  0. ]\n",
      " [0.  0.  0.  0.  0.  0.  0.  0.  0.  0.  0.  0.  0.  0.  0.  0. ]\n",
      " [0.  0.  0.  0.  0.  0.3 0.  0.  0.  0.  0.3 0.  0.  0.  0.  0.3]\n",
      " [0.  0.  0.  0.  0.  0.  0.  0.  0.  0.  0.  0.  0.  0.  0.  0. ]\n",
      " [0.  0.  0.  0.  0.  0.  0.  0.  0.  0.  0.  0.  0.  0.  0.  0. ]\n",
      " [0.  0.  0.  0.  0.  0.  0.  0.  0.  0.  0.  0.  0.  0.  0.  0. ]\n",
      " [0.  0.  0.  0.  0.  0.  0.  0.  0.  0.  0.  0.  0.  0.  0.  0. ]\n",
      " [0.  0.  0.  0.  0.  0.3 0.  0.  0.  0.  0.3 0.  0.  0.  0.  0.3]]\n"
     ]
    }
   ],
   "source": [
    "def group1Q_FT(group, rep):\n",
    "    FTrep_num = len(group[0]) * len(rep[0])\n",
    "    temp = np.zeros((FTrep_num, FTrep_num))\n",
    "    for i in range(len(group)):\n",
    "        temp = temp + np.kron(group[i], rep[i].conjugate())\n",
    "    return temp / len(group)\n",
    "np.set_printoptions(precision=1)\n",
    "print('The fourier transform in superoperator rep is: \\n', group1Q_FT(clifford1Q, clifford1Q))"
   ]
  },
  {
   "cell_type": "markdown",
   "metadata": {},
   "source": [
    "#### 1Q-clifford fourier transform -- $\\tilde{\\phi}(\\sigma_I)$"
   ]
  },
  {
   "cell_type": "code",
   "execution_count": 5,
   "metadata": {
    "collapsed": false
   },
   "outputs": [
    {
     "name": "stdout",
     "output_type": "stream",
     "text": [
      "The fourier transform in irrepI is: \n",
      " [[1. 0. 0. 0.]\n",
      " [0. 0. 0. 0.]\n",
      " [0. 0. 0. 0.]\n",
      " [0. 0. 0. 0.]]\n"
     ]
    }
   ],
   "source": [
    "cliff1Q_generator = qt.qubit_clifford_group(1,0)\n",
    "cliff1Q_irrepI = []\n",
    "normalized_identity = [qt.identity(2)] / np.sqrt(2)\n",
    "for i in range(24):\n",
    "    x = channel_to_superrep(cliff1Q_generator.__next__(), normalized_identity)\n",
    "    cliff1Q_irrepI.append(x)    \n",
    "print('The fourier transform in irrepI is: \\n', group1Q_FT(clifford1Q, cliff1Q_irrepI))"
   ]
  },
  {
   "cell_type": "markdown",
   "metadata": {},
   "source": [
    "#### 1Q-clifford fourier transform -- $\\tilde{\\phi}(\\sigma_P)$"
   ]
  },
  {
   "cell_type": "code",
   "execution_count": 6,
   "metadata": {
    "collapsed": false
   },
   "outputs": [
    {
     "name": "stdout",
     "output_type": "stream",
     "text": [
      "The fourier transform in irrepP is: \n",
      " [[0.  0.  0.  0.  0.  0.  0.  0.  0.  0.  0.  0. ]\n",
      " [0.  0.  0.  0.  0.  0.  0.  0.  0.  0.  0.  0. ]\n",
      " [0.  0.  0.  0.  0.  0.  0.  0.  0.  0.  0.  0. ]\n",
      " [0.  0.  0.  0.3 0.  0.  0.  0.3 0.  0.  0.  0.3]\n",
      " [0.  0.  0.  0.  0.  0.  0.  0.  0.  0.  0.  0. ]\n",
      " [0.  0.  0.  0.  0.  0.  0.  0.  0.  0.  0.  0. ]\n",
      " [0.  0.  0.  0.  0.  0.  0.  0.  0.  0.  0.  0. ]\n",
      " [0.  0.  0.  0.3 0.  0.  0.  0.3 0.  0.  0.  0.3]\n",
      " [0.  0.  0.  0.  0.  0.  0.  0.  0.  0.  0.  0. ]\n",
      " [0.  0.  0.  0.  0.  0.  0.  0.  0.  0.  0.  0. ]\n",
      " [0.  0.  0.  0.  0.  0.  0.  0.  0.  0.  0.  0. ]\n",
      " [0.  0.  0.  0.3 0.  0.  0.  0.3 0.  0.  0.  0.3]]\n"
     ]
    }
   ],
   "source": [
    "cliff1Q_generator = qt.qubit_clifford_group(1,0)\n",
    "cliff1Q_irrepP = []\n",
    "normalized_noidentity = [qt.sigmax(), qt.sigmay(), qt.sigmaz()] / np.sqrt(2)\n",
    "for i in range(24):\n",
    "    x = channel_to_superrep(cliff1Q_generator.__next__(), normalized_noidentity)\n",
    "    cliff1Q_irrepP.append(x)\n",
    "print('The fourier transform in irrepP is: \\n', group1Q_FT(clifford1Q, cliff1Q_irrepP))"
   ]
  },
  {
   "cell_type": "markdown",
   "metadata": {},
   "source": [
    "Clearly we can see that  $\\tilde{\\phi}(\\sigma) = \\tilde{\\phi}(\\sigma_I) \\oplus \\tilde{\\phi}(\\sigma_P)$, here $\\sigma = \\sigma_I \\oplus \\sigma_P$."
   ]
  },
  {
   "cell_type": "markdown",
   "metadata": {},
   "source": [
    "## Comparision between Merkel and Wallman's paper"
   ]
  },
  {
   "cell_type": "markdown",
   "metadata": {},
   "source": [
    "### Mathmatical analysis\n",
    "$\\newcommand{\\ket}[1]{\\left|{#1}\\right\\rangle}$\n",
    "$\\newcommand{\\bra}[1]{\\left\\langle{#1}\\right|}$\n",
    "We will first make brief theoretical analysis of Merkel and Wallman's paper.\n",
    "***\n",
    "##### Merkel\n",
    "In Merkel's paper, the average fidelity is $1 - \\delta$, i.e.,\n",
    "\\begin{equation}\n",
    "\\begin{split}\n",
    "1 - \\delta &= \\mathbb{E}_{g\\in\\mathcal{G}} F_e[\\phi(g), \\phi_{ideal}(g)] = \\sum_{\\sigma}\\frac{d_\\sigma}{d_\\phi} Tr[\\tilde{\\phi}(\\sigma) \\tilde{\\phi}_{ideal}^+(\\sigma)] \\\\\n",
    "&= \\frac{1}{4^n}\\bra{1 \\oplus \\mathbf{0}}\\tilde{\\phi}(\\sigma_I)\\ket{1 \\oplus \\mathbf{0}} + \\frac{4^n - 1}{4^n} \\bra{\\mathbf{0} \\oplus \\psi}\\tilde{\\phi}(\\sigma_I)\\ket{\\mathbf{0} \\oplus \\psi}\n",
    "\\end{split}\n",
    "\\end{equation}\n",
    "here $\\psi$ is the maximally entangled states. Merkel defines\n",
    "\\begin{equation}\n",
    "\\begin{split}\n",
    "t &\\equiv \\bra{1 \\oplus \\mathbf{0}}\\tilde{\\phi}(\\sigma_I)\\ket{1 \\oplus \\mathbf{0}} \\\\\n",
    "p &\\equiv \\bra{\\mathbf{0} \\oplus \\psi}\\tilde{\\phi}(\\sigma_I)\\ket{\\mathbf{0} \\oplus \\psi} \n",
    "\\end{split}\n",
    "\\end{equation}\n",
    "We can see that $t$ and $p$ are the (largest) eigenvalues of $\\tilde{\\phi}(\\sigma)$. <br>\n",
    "The average survival probability is\n",
    "\\begin{equation}\n",
    "S_m = Ap^m + Bt^m + C + \\mathcal{O}(\\delta^n)\n",
    "\\end{equation}\n",
    "***\n",
    "##### Wallman\n",
    "In Wallman's paper, for any unitary 2-design $\\mathcal{G}$ and channel $\\mathcal{C}$, the twired channel is\n",
    "\\begin{equation}\n",
    "\\mathbb{E}_{g\\in\\mathcal{G}} [\\phi_{ideal}(g^+) \\mathcal{C} \\phi_{ideal}(g)] = \\frac{t}{d}I_d + p(\\rho - \\frac{1}{d}I_d) \\equiv \\mathcal{D}_{p,t}\n",
    "\\end{equation}\n",
    "here $\\phi(g)$ is the super-operator representation; $t$ and $p$ are defined by the eigenvalue equations,\n",
    "\\begin{equation}\n",
    "\\begin{split}\n",
    "&t:  \n",
    "\\left\\{\n",
    "\\begin{aligned}\n",
    "& \\mathbb{E}_{g\\in\\mathcal{G}}\\phi(g)\\ket{L}\\rangle = t\\ket{L}\\rangle \\\\\n",
    "& \\langle\\bra{R}\\mathbb{E}_{g\\in\\mathcal{G}}\\phi(g) = t\\langle\\bra{R} \n",
    "\\end{aligned}\n",
    "\\right. \\\\\n",
    "&p:\n",
    "\\left\\{\n",
    "\\begin{aligned}\n",
    "& \\mathbb{E}_{g\\in\\mathcal{G}} [\\phi_{ideal}(g) \\otimes \\phi(g)] \\mathrm{vec}(\\mathcal{L'}) = p\\mathrm{vec}(\\mathcal{L'}) \\\\\n",
    "& \\mathbb{E}_{g\\in\\mathcal{G}} [\\phi(g) \\otimes \\phi_{ideal}(g)]^T \\mathrm{vec}(\\mathcal{R'}) = p\\mathrm{vec}(\\mathcal{R'})\n",
    "\\end{aligned}\n",
    "\\right. \\\\\n",
    "\\end{split}\n",
    "\\end{equation}\n",
    "here $t$ and $p$ are the largest eigenvalues. (note: I think here $p$ should be modified to the second largest eigenvalue.) <br>\n",
    "The average survival probability is\n",
    "\\begin{equation}\n",
    "S_m = Ap^m + Bt^m + \\epsilon_m\n",
    "\\end{equation}\n",
    "here $|\\epsilon| < \\delta_1\\delta_2^m$, and $\\delta_1$ and $\\delta_2$ quantify the amount of gate dependence.\n",
    "***\n",
    "##### Comparision\n",
    "Recall the definition of fourier transform of $\\phi$ on $\\sigma$\n",
    "\\begin{equation}\n",
    "\\tilde{\\phi}(\\sigma) = \\mathbb{E}_{g\\in\\mathcal{G}} \\phi(g) \\otimes \\sigma^*(g)\n",
    "\\end{equation}\n",
    "As for super-operator representation, $\\sigma^*(g) = \\sigma(g)$, we can see that in Wallman's paper, \n",
    "\\begin{equation}\n",
    "\\begin{split}\n",
    "&t_{Wallman}:\n",
    "\\left\\{\n",
    "\\begin{aligned}\n",
    "& \\tilde{\\phi}(\\sigma_I)\\ket{L}\\rangle = t_{Wallman}\\ket{L}\\rangle \\\\\n",
    "& \\langle\\bra{R}\\tilde{\\phi}(\\sigma_I) = t_{Wallman}\\langle\\bra{R} \n",
    "\\end{aligned}\n",
    "\\right. \\\\\n",
    "&p_{Wallman}: \\mathrm{vec}(\\mathcal{R'})^T \\tilde{\\phi}(\\sigma) = p_{Wallman}\\mathrm{vec}(\\mathcal{R'})^T\n",
    "\\end{split}\n",
    "\\end{equation}\n",
    "which means $t_{Wallman}$ are the eigenvalue of $\\tilde{\\phi}(\\sigma_I)$ and $p_{Wallman}$ are the eigenvalur of $\\tilde{\\phi}(\\sigma)$. Since $\\tilde{\\phi}(\\sigma) = \\tilde{\\phi}(\\sigma_I) \\oplus \\tilde{\\phi}(\\sigma_P)$, $t_{Wallman}$ and $p_{Wallman}$ are the eigenvalues of $\\tilde{\\phi}(\\sigma)$. <br>\n",
    "In conclusion,\n",
    "\\begin{equation}\n",
    "\\begin{split}\n",
    "t_{Merkel} = t_{Wallman} \\\\\n",
    "p_{Merkel} = p_{Wallman}\n",
    "\\end{split}\n",
    "\\end{equation}"
   ]
  },
  {
   "cell_type": "markdown",
   "metadata": {},
   "source": [
    "### Numerical simulation"
   ]
  },
  {
   "cell_type": "markdown",
   "metadata": {},
   "source": [
    "Here we use the generalized depolarizing channel, i.e.,\n",
    "\\begin{equation}\n",
    "\\begin{split}\n",
    "\\varepsilon_{dep}(\\rho) &= \\frac{t}{d}I_d + p(\\rho - \\frac{1}{d}I_d) \\\\\n",
    "&= (p + \\frac{t - p}{2d})\\rho + \\frac{t - p}{2d}(X\\rho X + Y\\rho Y + Z\\rho Z)\n",
    "\\end{split}\n",
    "\\end{equation}"
   ]
  },
  {
   "cell_type": "code",
   "execution_count": 7,
   "metadata": {
    "collapsed": false
   },
   "outputs": [
    {
     "name": "stdout",
     "output_type": "stream",
     "text": [
      "The phase error Rz( 0.09 ):\n",
      " [[ 1.     0.     0.     0.   ]\n",
      " [ 0.     0.996 -0.09   0.   ]\n",
      " [ 0.     0.09   0.996  0.   ]\n",
      " [ 0.     0.     0.     1.   ]]\n",
      "The depolarizing channel D( 1 , 0.99 ):\n",
      " [[1.   0.   0.   0.  ]\n",
      " [0.   0.99 0.   0.  ]\n",
      " [0.   0.   0.99 0.  ]\n",
      " [0.   0.   0.   0.99]]\n"
     ]
    }
   ],
   "source": [
    "rz_angle = 0.09 #phase error parameter (radian measure)\n",
    "t = 1 #depolarizing channel parameters\n",
    "p = 0.99\n",
    "#phase error (z rotation)\n",
    "phase_err = channel_to_superrep(qt.rz(rz_angle), normalized_pauli)\n",
    "\n",
    "#depolarizing channel in super-operator rep\n",
    "def dep(t, p, num_qubit, rep_space):\n",
    "    temp = np.zeros((len(rep_space), len(rep_space)))\n",
    "    d = 2**num_qubit\n",
    "    for i in range(len(rep_space)):\n",
    "        for j in range(len(rep_space)):\n",
    "            temp_chan = (p + (t - p)/2/d) * rep_space[j] + (t - p)/2/d * (qt.sigmax() * rep_space[j] * qt.sigmax() + qt.sigmay() * \\\n",
    "                                                                        rep_space[j] * qt.sigmay() + qt.sigmaz() * rep_space[j] * qt.sigmaz())\n",
    "            temp[i, j] = (rep_space[i].dag() * temp_chan).tr()\n",
    "    return temp\n",
    "dep_chan = dep(t, p, 1, normalized_pauli)\n",
    "\n",
    "np.set_printoptions(precision=3)\n",
    "print('The phase error Rz(',rz_angle ,'):\\n',phase_err)\n",
    "print('The depolarizing channel D(',t,',',p,'):\\n', dep_chan)"
   ]
  },
  {
   "cell_type": "markdown",
   "metadata": {},
   "source": [
    "We use Wallman's error model to construct noisy clifford process. All Cliffords have a uniform depolarizing error $D(t, p)$, but half of them additionally have a small rotation about Z (we choose 12 elements randomly from the whole 24 elements\\). "
   ]
  },
  {
   "cell_type": "code",
   "execution_count": 8,
   "metadata": {
    "collapsed": false
   },
   "outputs": [
    {
     "name": "stdout",
     "output_type": "stream",
     "text": [
      "The entanglement fidelity is: 0.9914983014204682\n"
     ]
    }
   ],
   "source": [
    "Cliff1QIdeal = clifford1Q\n",
    "np.set_printoptions(precision=3)\n",
    "Cliff1QNoisy = []\n",
    "for i in range(len(Cliff1QIdeal)):\n",
    "    Cliff1QNoisy.append(np.dot(dep_chan, Cliff1QIdeal[i]))\n",
    "#np.set_printoptions(precision=5)\n",
    "#print(Cliff1QNoisy)\n",
    "NoisySequence = Random.sample(range(24), 12)\n",
    "for i in range(len(NoisySequence)):\n",
    "    Cliff1QNoisy[NoisySequence[i]] = np.dot(phase_err, Cliff1QNoisy[NoisySequence[i]])\n",
    "\n",
    "def EntangleFedelity(channel1, channel2):\n",
    "    temp = 0\n",
    "    for i in range(len(channel1)):\n",
    "        temp = temp + (np.dot(channel1[i], (channel2[i].T).conjugate())).trace() / 4\n",
    "    return temp / len(channel1)\n",
    "print('The entanglement fidelity is:', EntangleFedelity(Cliff1QNoisy, Cliff1QIdeal))"
   ]
  },
  {
   "cell_type": "markdown",
   "metadata": {},
   "source": [
    "##### Fidelity calculated by Merkel's analysis"
   ]
  },
  {
   "cell_type": "code",
   "execution_count": 9,
   "metadata": {
    "collapsed": false
   },
   "outputs": [
    {
     "name": "stdout",
     "output_type": "stream",
     "text": [
      "The largest eigenvalue in irrepI is: [0.9999999999999997]\n",
      "The largest eigenvalue in irrepP is: [(0.9886641762770099+0j)]\n",
      "The entanglement fidelity calculated by fourier analysis is: (0.9914981322077573+0j)\n"
     ]
    }
   ],
   "source": [
    "FourierNoisy_irrepI = group1Q_FT(Cliff1QNoisy, cliff1Q_irrepI)\n",
    "FourierNoisy_irrepP = group1Q_FT(Cliff1QNoisy, cliff1Q_irrepP)\n",
    "eigenvalNoisy_irrepI, eigenvecNoisy_irrepI = np.linalg.eig(FourierNoisy_irrepI)\n",
    "eigenvalNoisy_irrepP, eigenvecNoisy_irrepP = np.linalg.eig(FourierNoisy_irrepP)\n",
    "LargestEigenval_irrepI = hp.nlargest(1, eigenvalNoisy_irrepI)\n",
    "LargestEigenval_irrepP = hp.nlargest(1, eigenvalNoisy_irrepP)\n",
    "FourierFidelity = LargestEigenval_irrepI[0] / 4 + LargestEigenval_irrepP[0] * 3 / 4\n",
    "print('The largest eigenvalue in irrepI is:', LargestEigenval_irrepI)\n",
    "print('The largest eigenvalue in irrepP is:', LargestEigenval_irrepP)\n",
    "print('The entanglement fidelity calculated by fourier analysis is:', FourierFidelity)"
   ]
  },
  {
   "cell_type": "markdown",
   "metadata": {},
   "source": [
    "#### Fidelity calculated by Wallman's analysis"
   ]
  },
  {
   "cell_type": "code",
   "execution_count": 10,
   "metadata": {
    "collapsed": false
   },
   "outputs": [
    {
     "name": "stdout",
     "output_type": "stream",
     "text": [
      "The eigenvalues of noisy fourier tranform are: \n",
      " [ 9.887e-01+0.000e+00j  5.413e-03+0.000e+00j -5.079e-03+0.000e+00j\n",
      " -7.257e-03+0.000e+00j  7.591e-03+0.000e+00j -1.896e-10+1.813e-10j\n",
      " -1.896e-10-1.813e-10j  1.896e-10+1.813e-10j  1.896e-10-1.813e-10j\n",
      "  3.804e-17+0.000e+00j -3.970e-16+0.000e+00j -1.391e-17+0.000e+00j\n",
      " -2.085e-18+0.000e+00j -1.924e-19+0.000e+00j  1.000e+00+0.000e+00j\n",
      "  4.626e-18+0.000e+00j]\n",
      "The two largest eigenvalues of noisy fourier tranform are: \n",
      " [(0.9999999999999997+0j), (0.9886641762770088+0j)]\n",
      "t in Wallmans paper is: 0.9999999999999997\n",
      "p in Wallmans paper is: (0.9999999999999997+0j)\n"
     ]
    }
   ],
   "source": [
    "FourierNoisy = group1Q_FT(Cliff1QNoisy, clifford1Q)\n",
    "eigenvalNoisy, eigenvecNoisy = np.linalg.eig(FourierNoisy)\n",
    "LargestEigenval = hp.nlargest(2, eigenvalNoisy)\n",
    "#print('The fourier transform of noisy Cifford is: \\n', FourierNoisy)\n",
    "print('The eigenvalues of noisy fourier tranform are: \\n',eigenvalNoisy)\n",
    "print('The two largest eigenvalues of noisy fourier tranform are: \\n', LargestEigenval)\n",
    "print('t in Wallmans paper is:', LargestEigenval_irrepI[0])\n",
    "print('p in Wallmans paper is:', LargestEigenval[0])"
   ]
  },
  {
   "cell_type": "markdown",
   "metadata": {},
   "source": [
    "### 1Q-dihedral group simulation"
   ]
  },
  {
   "cell_type": "markdown",
   "metadata": {},
   "source": [
    "##### 1) dihedral group generation"
   ]
  },
  {
   "cell_type": "code",
   "execution_count": 11,
   "metadata": {
    "collapsed": false
   },
   "outputs": [
    {
     "name": "stdout",
     "output_type": "stream",
     "text": [
      "The number of 1Q-dihedral elements is: 16\n"
     ]
    }
   ],
   "source": [
    "z_rota = 1 #Dihedral group parameters\n",
    "j_rota = 8\n",
    "Dihedral_rota = qt.rz(- 2 * np.pi * z_rota / j_rota)\n",
    "Dihedral1Q_group = []\n",
    "Dihedral1Q = []\n",
    "for i in range(j_rota):\n",
    "    x = Dihedral_rota ** i\n",
    "    Dihedral1Q_group.append(x)\n",
    "    temp = channel_to_superrep(x, normalized_pauli)\n",
    "    Dihedral1Q.append(temp)\n",
    "    x = qt.sigmax() * x\n",
    "    Dihedral1Q_group.append(x)\n",
    "    temp = channel_to_superrep(x, normalized_pauli)\n",
    "    Dihedral1Q.append(temp)\n",
    "\n",
    "print('The number of 1Q-dihedral elements is:', len(Dihedral1Q_group))"
   ]
  },
  {
   "cell_type": "markdown",
   "metadata": {},
   "source": [
    "##### 2) 1Q-dihedral group fourier transform -- $\\tilde{\\phi}(\\sigma)$"
   ]
  },
  {
   "cell_type": "code",
   "execution_count": 12,
   "metadata": {
    "collapsed": false
   },
   "outputs": [
    {
     "name": "stdout",
     "output_type": "stream",
     "text": [
      "The fourier transform of dihedral group in superoperator rep is: \n",
      " [[1.  0.  0.  0.  0.  0.  0.  0.  0.  0.  0.  0.  0.  0.  0.  0. ]\n",
      " [0.  0.  0.  0.  0.  0.  0.  0.  0.  0.  0.  0.  0.  0.  0.  0. ]\n",
      " [0.  0.  0.  0.  0.  0.  0.  0.  0.  0.  0.  0.  0.  0.  0.  0. ]\n",
      " [0.  0.  0.  0.  0.  0.  0.  0.  0.  0.  0.  0.  0.  0.  0.  0. ]\n",
      " [0.  0.  0.  0.  0.  0.  0.  0.  0.  0.  0.  0.  0.  0.  0.  0. ]\n",
      " [0.  0.  0.  0.  0.  0.5 0.  0.  0.  0.  0.5 0.  0.  0.  0.  0. ]\n",
      " [0.  0.  0.  0.  0.  0.  0.  0.  0.  0.  0.  0.  0.  0.  0.  0. ]\n",
      " [0.  0.  0.  0.  0.  0.  0.  0.  0.  0.  0.  0.  0.  0.  0.  0. ]\n",
      " [0.  0.  0.  0.  0.  0.  0.  0.  0.  0.  0.  0.  0.  0.  0.  0. ]\n",
      " [0.  0.  0.  0.  0.  0.  0.  0.  0.  0.  0.  0.  0.  0.  0.  0. ]\n",
      " [0.  0.  0.  0.  0.  0.5 0.  0.  0.  0.  0.5 0.  0.  0.  0.  0. ]\n",
      " [0.  0.  0.  0.  0.  0.  0.  0.  0.  0.  0.  0.  0.  0.  0.  0. ]\n",
      " [0.  0.  0.  0.  0.  0.  0.  0.  0.  0.  0.  0.  0.  0.  0.  0. ]\n",
      " [0.  0.  0.  0.  0.  0.  0.  0.  0.  0.  0.  0.  0.  0.  0.  0. ]\n",
      " [0.  0.  0.  0.  0.  0.  0.  0.  0.  0.  0.  0.  0.  0.  0.  0. ]\n",
      " [0.  0.  0.  0.  0.  0.  0.  0.  0.  0.  0.  0.  0.  0.  0.  1. ]]\n",
      "The eigenvalues are: [1. 0. 1. 0. 0. 0. 0. 0. 0. 0. 0. 0. 0. 0. 0. 1.]\n"
     ]
    }
   ],
   "source": [
    "Dihedral1Q_FT = group1Q_FT(Dihedral1Q, Dihedral1Q)\n",
    "np.set_printoptions(precision=3)\n",
    "print('The fourier transform of dihedral group in superoperator rep is: \\n', chop(Dihedral1Q_FT))\n",
    "Dihedral1Q_Eigenval,Dihedral1Q_Eigenvec = np.linalg.eig(Dihedral1Q_FT)\n",
    "print('The eigenvalues are:', chop(Dihedral1Q_Eigenval))"
   ]
  },
  {
   "cell_type": "markdown",
   "metadata": {},
   "source": [
    "##### 1Q-dihedral group fourier transform -- $\\tilde{\\phi}(\\sigma_I)$"
   ]
  },
  {
   "cell_type": "code",
   "execution_count": 13,
   "metadata": {
    "collapsed": false
   },
   "outputs": [
    {
     "name": "stdout",
     "output_type": "stream",
     "text": [
      "The fourier transform in irrepI is: \n",
      " [[1. 0. 0. 0.]\n",
      " [0. 0. 0. 0.]\n",
      " [0. 0. 0. 0.]\n",
      " [0. 0. 0. 0.]]\n"
     ]
    }
   ],
   "source": [
    "num_Dihedral1Q = len(Dihedral1Q_group)\n",
    "Dihedral1Q_irrepI = []\n",
    "for i in range(num_Dihedral1Q):\n",
    "    x = channel_to_superrep(Dihedral1Q_group[i], normalized_identity)\n",
    "    Dihedral1Q_irrepI.append(x)\n",
    "Dihedral1QFT_irrepI = group1Q_FT(Dihedral1Q, Dihedral1Q_irrepI)\n",
    "print('The fourier transform in irrepI is: \\n', chop(Dihedral1QFT_irrepI))"
   ]
  },
  {
   "cell_type": "markdown",
   "metadata": {},
   "source": [
    "##### 1Q-dihedral group fourier transform -- $\\tilde{\\phi}(\\sigma_Z)$"
   ]
  },
  {
   "cell_type": "code",
   "execution_count": 14,
   "metadata": {
    "collapsed": false
   },
   "outputs": [
    {
     "name": "stdout",
     "output_type": "stream",
     "text": [
      "The fourier transform in irrepZ is: \n",
      " [[0. 0. 0. 0.]\n",
      " [0. 0. 0. 0.]\n",
      " [0. 0. 0. 0.]\n",
      " [0. 0. 0. 1.]]\n"
     ]
    }
   ],
   "source": [
    "Dihedral1Q_irrepZ = []\n",
    "normalized_Z = [qt.sigmaz()] / np.sqrt(2)\n",
    "for i in range(num_Dihedral1Q):\n",
    "    x = channel_to_superrep(Dihedral1Q_group[i], normalized_Z)\n",
    "    Dihedral1Q_irrepZ.append(x)\n",
    "Dihedral1QFT_irrepZ = group1Q_FT(Dihedral1Q, Dihedral1Q_irrepZ)\n",
    "print('The fourier transform in irrepZ is: \\n', chop(Dihedral1QFT_irrepZ))"
   ]
  },
  {
   "cell_type": "markdown",
   "metadata": {},
   "source": [
    "##### 1Q-dihedral group fourier transform -- $\\tilde{\\phi}(\\sigma_{XY})$"
   ]
  },
  {
   "cell_type": "code",
   "execution_count": 15,
   "metadata": {
    "collapsed": false
   },
   "outputs": [
    {
     "name": "stdout",
     "output_type": "stream",
     "text": [
      "The fourier transform in irrepXY is: \n",
      " [[0.  0.  0.  0.  0.  0.  0.  0. ]\n",
      " [0.  0.  0.  0.  0.  0.  0.  0. ]\n",
      " [0.  0.  0.5 0.  0.  0.5 0.  0. ]\n",
      " [0.  0.  0.  0.  0.  0.  0.  0. ]\n",
      " [0.  0.  0.  0.  0.  0.  0.  0. ]\n",
      " [0.  0.  0.5 0.  0.  0.5 0.  0. ]\n",
      " [0.  0.  0.  0.  0.  0.  0.  0. ]\n",
      " [0.  0.  0.  0.  0.  0.  0.  0. ]]\n"
     ]
    }
   ],
   "source": [
    "Dihedral1Q_irrepXY = []\n",
    "normalized_XY = [qt.sigmax(), qt.sigmay()] / np.sqrt(2)\n",
    "for i in range(num_Dihedral1Q):\n",
    "    x = channel_to_superrep(Dihedral1Q_group[i], normalized_XY)\n",
    "    Dihedral1Q_irrepXY.append(x)\n",
    "Dihedral1QFT_irrepXY = group1Q_FT(Dihedral1Q, Dihedral1Q_irrepXY)\n",
    "print('The fourier transform in irrepXY is: \\n', chop(Dihedral1QFT_irrepXY))"
   ]
  },
  {
   "cell_type": "markdown",
   "metadata": {},
   "source": [
    "##### 3) noisy dihedral group simulation"
   ]
  },
  {
   "cell_type": "code",
   "execution_count": 16,
   "metadata": {
    "collapsed": false
   },
   "outputs": [
    {
     "name": "stdout",
     "output_type": "stream",
     "text": [
      "The dihedral entanglement fidelity is: 0.9914983014204679\n"
     ]
    }
   ],
   "source": [
    "t_dihedral = 1 #depolarizing channel parameters\n",
    "p_dihedral = 0.99\n",
    "RzAngle_Dihedral = 0.09 #phase error angle\n",
    "depchan_dihedral = dep(t_dihedral, p_dihedral, 1, normalized_pauli)\n",
    "PhaseErr_Dihedral = channel_to_superrep(qt.rz(RzAngle_Dihedral), normalized_pauli)\n",
    "Dihedral1QIdeal = Dihedral1Q\n",
    "Dihedral1QNoisy = []\n",
    "for i in range(len(Dihedral1QIdeal)):\n",
    "    Dihedral1QNoisy.append(np.dot(dep_chan, Dihedral1QIdeal[i]))\n",
    "NoisySequence_Dihedral = Random.sample(range(16), 8)\n",
    "for i in range(len(NoisySequence_Dihedral)):\n",
    "    Dihedral1QNoisy[NoisySequence_Dihedral[i]] = np.dot(PhaseErr_Dihedral, Dihedral1QNoisy[NoisySequence_Dihedral[i]])\n",
    "\n",
    "print('The dihedral entanglement fidelity is:', EntangleFedelity(Dihedral1QNoisy, Dihedral1QIdeal))"
   ]
  },
  {
   "cell_type": "code",
   "execution_count": 17,
   "metadata": {
    "collapsed": false
   },
   "outputs": [
    {
     "name": "stdout",
     "output_type": "stream",
     "text": [
      "The eigenvalues of noisy dihedral fourier tranform are: \n",
      " [0.000e+00+0.   j 0.000e+00+0.   j 0.000e+00+0.   j 0.000e+00+0.   j\n",
      " 6.046e-04+0.009j 6.046e-04-0.009j 9.875e-01+0.   j 0.000e+00+0.   j\n",
      " 5.008e-04+0.   j 6.046e-04+0.009j 6.046e-04-0.009j 0.000e+00+0.   j\n",
      " 1.000e+00+0.   j 0.000e+00+0.   j 0.000e+00+0.   j 9.900e-01+0.   j]\n",
      "The three largest eigenvalues of noisy fourier tranform are: \n",
      " [(0.9999999999999989+0j), (0.9899999999999989+0j), (0.9874957535511696+0j)]\n",
      "The entanglement fidelity calculated by fourier analysis is: (0.9912478767755842+0j)\n"
     ]
    }
   ],
   "source": [
    "Dihedral1QNoisy_FT = group1Q_FT(Dihedral1QNoisy, Dihedral1QIdeal)\n",
    "EigValNoisy_Dihedral1Q, EigVecNoisy_Dihedral1Q = np.linalg.eig(Dihedral1QNoisy_FT)\n",
    "LargestEigVal_Dihedral1Q = hp.nlargest(3, EigValNoisy_Dihedral1Q)\n",
    "FourierFidelity_Dihedeal1Q = LargestEigVal_Dihedral1Q[0] / 4 + LargestEigVal_Dihedral1Q[1] / 4 + LargestEigVal_Dihedral1Q[2] / 2\n",
    "#np.set_printoptions(precision=3)\n",
    "#print('The fourier transform of noisy dihedral group is: \\n', chop(Dihedral1QNoisy_FT))\n",
    "print('The eigenvalues of noisy dihedral fourier tranform are: \\n',chop(EigValNoisy_Dihedral1Q))\n",
    "print('The three largest eigenvalues of noisy fourier tranform are: \\n', LargestEigVal_Dihedral1Q)\n",
    "print('The entanglement fidelity calculated by fourier analysis is:', FourierFidelity_Dihedeal1Q)"
   ]
  }
 ],
 "metadata": {
  "kernelspec": {
   "display_name": "Python 3",
   "language": "python",
   "name": "python3"
  },
  "language_info": {
   "codemirror_mode": {
    "name": "ipython",
    "version": 3
   },
   "file_extension": ".py",
   "mimetype": "text/x-python",
   "name": "python",
   "nbconvert_exporter": "python",
   "pygments_lexer": "ipython3",
   "version": "3.6.0"
  }
 },
 "nbformat": 4,
 "nbformat_minor": 0
}
